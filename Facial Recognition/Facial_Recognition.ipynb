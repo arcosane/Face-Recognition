{
 "cells": [
  {
   "cell_type": "code",
   "execution_count": 35,
   "id": "079499c3",
   "metadata": {},
   "outputs": [],
   "source": [
    "#Importing Necessary Libraries\n",
    "import tensorflow as tf\n",
    "import numpy as np\n",
    "\n",
    "from keras.preprocessing.image import ImageDataGenerator"
   ]
  },
  {
   "cell_type": "code",
   "execution_count": 36,
   "id": "a940f0c0",
   "metadata": {},
   "outputs": [
    {
     "data": {
      "text/plain": [
       "'2.12.0'"
      ]
     },
     "execution_count": 36,
     "metadata": {},
     "output_type": "execute_result"
    }
   ],
   "source": [
    "tf.__version__"
   ]
  },
  {
   "cell_type": "code",
   "execution_count": 37,
   "id": "b74a3f1b",
   "metadata": {},
   "outputs": [
    {
     "name": "stdout",
     "output_type": "stream",
     "text": [
      "Found 9 images belonging to 3 classes.\n"
     ]
    },
    {
     "data": {
      "text/plain": [
       "{'Jaden': 0, 'Slayde': 1, 'aston': 2}"
      ]
     },
     "execution_count": 37,
     "metadata": {},
     "output_type": "execute_result"
    }
   ],
   "source": [
    "#Processing the training set\n",
    "train_datagen = ImageDataGenerator(rescale= 1./255,\n",
    "                                  shear_range = 0.2,\n",
    "                                  zoom_range = 0.2,\n",
    "                                  horizontal_flip = True)\n",
    "train_set = train_datagen.flow_from_directory('dataset/training_set',\n",
    "                                             target_size = (64,64),\n",
    "                                             batch_size = 3,\n",
    "                                             class_mode = 'categorical')\n",
    "train_set.class_indices"
   ]
  },
  {
   "cell_type": "code",
   "execution_count": 38,
   "id": "1e27e5c8",
   "metadata": {},
   "outputs": [
    {
     "name": "stdout",
     "output_type": "stream",
     "text": [
      "Found 18 images belonging to 3 classes.\n"
     ]
    }
   ],
   "source": [
    "#Processing the Test Set\n",
    "test_datagen = ImageDataGenerator(rescale= 1./255)\n",
    "test_set = train_datagen.flow_from_directory('dataset/test_set',\n",
    "                                             target_size = (64,64),\n",
    "                                             batch_size = 3,\n",
    "                                             class_mode = 'categorical')"
   ]
  },
  {
   "cell_type": "code",
   "execution_count": 39,
   "id": "4f0e0bb8",
   "metadata": {},
   "outputs": [],
   "source": [
    "#Building the CNN Model\n",
    "\n",
    "cnn = tf.keras.models.Sequential()\n",
    "\n",
    "#convolution layer\n",
    "cnn.add(tf.keras.layers.Conv2D(filters=18, kernel_size = 3, activation = 'relu', input_shape = [64,64,3]))\n",
    "\n",
    "#Pooling Layer\n",
    "cnn.add(tf.keras.layers.MaxPool2D(pool_size = 2 , strides = 2))\n",
    "\n",
    "#Adding second convolutional layer\n",
    "cnn.add(tf.keras.layers.Conv2D(filters=18, kernel_size = 3, activation = 'relu', input_shape = [64,64,3]))\n",
    "cnn.add(tf.keras.layers.MaxPool2D(pool_size = 2 , strides = 2))\n",
    "\n",
    "#Flattening\n",
    "cnn.add(tf.keras.layers.Flatten())\n",
    "\n",
    "#Full Connection\n",
    "cnn.add(tf.keras.layers.Dense(units = 64 , activation = 'relu'))\n",
    "\n",
    "#Output Layer\n",
    "cnn.add(tf.keras.layers.Dense(units = 3 , activation = 'softmax'))"
   ]
  },
  {
   "cell_type": "code",
   "execution_count": 40,
   "id": "3155fcf7",
   "metadata": {},
   "outputs": [
    {
     "name": "stdout",
     "output_type": "stream",
     "text": [
      "Epoch 1/15\n",
      "6/6 [==============================] - 1s 24ms/step - loss: 0.9916 - accuracy: 0.5000\n",
      "Epoch 2/15\n",
      "6/6 [==============================] - 0s 15ms/step - loss: 0.6960 - accuracy: 0.7778\n",
      "Epoch 3/15\n",
      "6/6 [==============================] - 0s 16ms/step - loss: 0.7107 - accuracy: 0.7778\n",
      "Epoch 4/15\n",
      "6/6 [==============================] - 0s 15ms/step - loss: 0.6041 - accuracy: 0.7778\n",
      "Epoch 5/15\n",
      "6/6 [==============================] - 0s 15ms/step - loss: 0.5783 - accuracy: 0.7778\n",
      "Epoch 6/15\n",
      "6/6 [==============================] - 0s 16ms/step - loss: 0.5012 - accuracy: 0.7778\n",
      "Epoch 7/15\n",
      "6/6 [==============================] - 0s 16ms/step - loss: 0.4626 - accuracy: 0.7778\n",
      "Epoch 8/15\n",
      "6/6 [==============================] - 0s 17ms/step - loss: 0.3984 - accuracy: 0.7778\n",
      "Epoch 9/15\n",
      "6/6 [==============================] - 0s 15ms/step - loss: 0.3021 - accuracy: 0.8333\n",
      "Epoch 10/15\n",
      "6/6 [==============================] - 0s 17ms/step - loss: 0.2817 - accuracy: 0.8333\n",
      "Epoch 11/15\n",
      "6/6 [==============================] - 0s 15ms/step - loss: 0.2891 - accuracy: 0.7778\n",
      "Epoch 12/15\n",
      "6/6 [==============================] - 0s 17ms/step - loss: 0.2336 - accuracy: 0.8333\n",
      "Epoch 13/15\n",
      "6/6 [==============================] - 0s 19ms/step - loss: 0.2076 - accuracy: 0.9444\n",
      "Epoch 14/15\n",
      "6/6 [==============================] - 0s 16ms/step - loss: 0.2097 - accuracy: 0.8889\n",
      "Epoch 15/15\n",
      "6/6 [==============================] - 0s 16ms/step - loss: 0.2098 - accuracy: 0.9444\n"
     ]
    },
    {
     "data": {
      "text/plain": [
       "<keras.callbacks.History at 0x19f000de110>"
      ]
     },
     "execution_count": 40,
     "metadata": {},
     "output_type": "execute_result"
    }
   ],
   "source": [
    "#Training the CNN Model\n",
    "\n",
    "#compiling the cnn\n",
    "cnn.compile(loss='categorical_crossentropy', optimizer = 'adam', metrics=[\"accuracy\"])\n",
    "\n",
    "#training the cnn on training set and evaluating it on the test set\n",
    "cnn.fit(x = train_set , validation_data = test_set , epochs = 15)"
   ]
  },
  {
   "cell_type": "code",
   "execution_count": 41,
   "metadata": {},
   "outputs": [
    {
     "name": "stderr",
     "output_type": "stream",
     "text": [
      "A subdirectory or file -p already exists.\n",
      "Error occurred while processing: -p.\n",
      "A subdirectory or file saved_model already exists.\n",
      "Error occurred while processing: saved_model.\n",
      "WARNING:absl:Found untraced functions such as _jit_compiled_convolution_op, _jit_compiled_convolution_op, _update_step_xla while saving (showing 3 of 3). These functions will not be directly callable after loading.\n"
     ]
    },
    {
     "name": "stdout",
     "output_type": "stream",
     "text": [
      "INFO:tensorflow:Assets written to: saved_model/my_model\\assets\n"
     ]
    },
    {
     "name": "stderr",
     "output_type": "stream",
     "text": [
      "INFO:tensorflow:Assets written to: saved_model/my_model\\assets\n"
     ]
    }
   ],
   "source": [
    "import json\n",
    "\n",
    "with open('train_indices.json', 'w') as f:\n",
    "    json.dump(train_set.class_indices, f)\n",
    "\n",
    "\n",
    "!mkdir -p saved_model\n",
    "cnn.save('saved_model/my_model')"
   ]
  }
 ],
 "metadata": {
  "kernelspec": {
   "display_name": "Python 3 (ipykernel)",
   "language": "python",
   "name": "python3"
  },
  "language_info": {
   "codemirror_mode": {
    "name": "ipython",
    "version": 3
   },
   "file_extension": ".py",
   "mimetype": "text/x-python",
   "name": "python",
   "nbconvert_exporter": "python",
   "pygments_lexer": "ipython3",
   "version": "3.11.3"
  }
 },
 "nbformat": 4,
 "nbformat_minor": 5
}
