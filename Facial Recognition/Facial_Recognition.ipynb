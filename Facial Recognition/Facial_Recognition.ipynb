{
 "cells": [
  {
   "cell_type": "code",
   "execution_count": 21,
   "id": "079499c3",
   "metadata": {},
   "outputs": [],
   "source": [
    "#Importing Necessary Libraries\n",
    "import tensorflow as tf\n",
    "import numpy as np\n",
    "from keras.preprocessing.image import ImageDataGenerator"
   ]
  },
  {
   "cell_type": "code",
   "execution_count": 22,
   "id": "a940f0c0",
   "metadata": {},
   "outputs": [
    {
     "data": {
      "text/plain": [
       "'2.12.0'"
      ]
     },
     "execution_count": 22,
     "metadata": {},
     "output_type": "execute_result"
    }
   ],
   "source": [
    "tf.__version__"
   ]
  },
  {
   "cell_type": "code",
   "execution_count": 23,
   "id": "b74a3f1b",
   "metadata": {},
   "outputs": [
    {
     "name": "stdout",
     "output_type": "stream",
     "text": [
      "Found 6 images belonging to 3 classes.\n"
     ]
    }
   ],
   "source": [
    "#Processing the training set\n",
    "train_datagen = ImageDataGenerator(rescale= 1./255,\n",
    "                                  shear_range = 0.2,\n",
    "                                  zoom_range = 0.2,\n",
    "                                  horizontal_flip = True)\n",
    "train_set = train_datagen.flow_from_directory('dataset/training_set',\n",
    "                                             target_size = (64,64),\n",
    "                                             batch_size = 3,\n",
    "                                             class_mode = 'categorical')"
   ]
  },
  {
   "cell_type": "code",
   "execution_count": 24,
   "id": "1e27e5c8",
   "metadata": {},
   "outputs": [
    {
     "name": "stdout",
     "output_type": "stream",
     "text": [
      "Found 3 images belonging to 3 classes.\n"
     ]
    },
    {
     "data": {
      "text/plain": [
       "{'Aston': 0, 'Jaden': 1, 'Slayde': 2}"
      ]
     },
     "execution_count": 24,
     "metadata": {},
     "output_type": "execute_result"
    }
   ],
   "source": [
    "#Processing the Test Set\n",
    "test_datagen = ImageDataGenerator(rescale= 1./255)\n",
    "test_set = test_datagen.flow_from_directory('dataset/test_set',\n",
    "                                             target_size = (64,64),\n",
    "                                             batch_size = 3,\n",
    "                                             class_mode = 'categorical')\n",
    "test_set.class_indices"
   ]
  },
  {
   "cell_type": "code",
   "execution_count": 25,
   "id": "4f0e0bb8",
   "metadata": {},
   "outputs": [],
   "source": [
    "#Building the CNN Model\n",
    "\n",
    "cnn = tf.keras.models.Sequential()\n",
    "\n",
    "#convolution layer\n",
    "cnn.add(tf.keras.layers.Conv2D(filters=18, kernel_size = 3, activation = 'relu', input_shape = [64,64,3]))\n",
    "\n",
    "#Pooling Layer\n",
    "cnn.add(tf.keras.layers.MaxPool2D(pool_size = 2 , strides = 2))\n",
    "\n",
    "#Adding second convolutional layer\n",
    "cnn.add(tf.keras.layers.Conv2D(filters=18, kernel_size = 3, activation = 'relu', input_shape = [64,64,3]))\n",
    "cnn.add(tf.keras.layers.MaxPool2D(pool_size = 2 , strides = 2))\n",
    "\n",
    "#Flattening\n",
    "cnn.add(tf.keras.layers.Flatten())\n",
    "\n",
    "#Full Connection\n",
    "cnn.add(tf.keras.layers.Dense(units = 64 , activation = 'relu'))\n",
    "\n",
    "#Output Layer\n",
    "cnn.add(tf.keras.layers.Dense(units = 3 , activation = 'softmax'))"
   ]
  },
  {
   "cell_type": "code",
   "execution_count": 27,
   "id": "3155fcf7",
   "metadata": {},
   "outputs": [
    {
     "name": "stdout",
     "output_type": "stream",
     "text": [
      "Epoch 1/10\n",
      "2/2 [==============================] - 1s 258ms/step - loss: 1.0670 - accuracy: 0.3333 - val_loss: 0.9245 - val_accuracy: 0.6667\n",
      "Epoch 2/10\n",
      "2/2 [==============================] - 0s 74ms/step - loss: 0.9867 - accuracy: 0.5000 - val_loss: 0.7871 - val_accuracy: 1.0000\n",
      "Epoch 3/10\n",
      "2/2 [==============================] - 0s 81ms/step - loss: 0.8115 - accuracy: 1.0000 - val_loss: 0.6623 - val_accuracy: 1.0000\n",
      "Epoch 4/10\n",
      "2/2 [==============================] - 0s 71ms/step - loss: 0.6779 - accuracy: 1.0000 - val_loss: 0.5309 - val_accuracy: 1.0000\n",
      "Epoch 5/10\n",
      "2/2 [==============================] - 0s 75ms/step - loss: 0.5680 - accuracy: 1.0000 - val_loss: 0.4021 - val_accuracy: 1.0000\n",
      "Epoch 6/10\n",
      "2/2 [==============================] - 0s 72ms/step - loss: 0.3716 - accuracy: 1.0000 - val_loss: 0.2890 - val_accuracy: 1.0000\n",
      "Epoch 7/10\n",
      "2/2 [==============================] - 0s 73ms/step - loss: 0.2624 - accuracy: 1.0000 - val_loss: 0.2198 - val_accuracy: 1.0000\n",
      "Epoch 8/10\n",
      "2/2 [==============================] - 0s 76ms/step - loss: 0.1995 - accuracy: 1.0000 - val_loss: 0.1411 - val_accuracy: 1.0000\n",
      "Epoch 9/10\n",
      "2/2 [==============================] - 0s 67ms/step - loss: 0.0956 - accuracy: 1.0000 - val_loss: 0.0933 - val_accuracy: 1.0000\n",
      "Epoch 10/10\n",
      "2/2 [==============================] - 0s 71ms/step - loss: 0.1010 - accuracy: 1.0000 - val_loss: 0.0536 - val_accuracy: 1.0000\n"
     ]
    },
    {
     "data": {
      "text/plain": [
       "<keras.callbacks.History at 0x19f45d77d10>"
      ]
     },
     "execution_count": 27,
     "metadata": {},
     "output_type": "execute_result"
    }
   ],
   "source": [
    "#Training the CNN Model\n",
    "\n",
    "#compiling the cnn\n",
    "cnn.compile(loss='categorical_crossentropy', optimizer = 'adam', metrics=[\"accuracy\"])\n",
    "\n",
    "#training the cnn on training set and evaluating it on the test set\n",
    "cnn.fit(x = train_set , validation_data = test_set , epochs = 10)"
   ]
  },
  {
   "cell_type": "code",
   "execution_count": 56,
   "id": "9e22dab2",
   "metadata": {},
   "outputs": [
    {
     "name": "stdout",
     "output_type": "stream",
     "text": [
      "{'Aston': 0, 'Jaden': 1, 'Slayde': 2}\n",
      "1/1 [==============================] - 0s 25ms/step\n",
      "Predicted class name: Slayde\n",
      "0.6376247\n"
     ]
    }
   ],
   "source": [
    "#making single predction\n",
    "from keras.preprocessing import image\n",
    " \n",
    "ImagePath='dataset/test_set/Slayde/image_2.jpg'\n",
    "test_image=tf.keras.utils.load_img(ImagePath,target_size=(64, 64))\n",
    "test_image=tf.keras.utils.img_to_array(test_image)\n",
    "test_image = test_image/255\n",
    "test_image=np.expand_dims(test_image,axis=0)\n",
    " \n",
    "class_indices = train_set.class_indices\n",
    "print(class_indices)\n",
    "class_names = {v: k for k, v in class_indices.items()}\n",
    "\n",
    "result = cnn.predict(test_image)\n",
    "predicted_class_index = np.argmax(result)\n",
    "predicted_class_name = class_names[predicted_class_index]\n",
    "\n",
    "print(\"Predicted class name:\", predicted_class_name)\n",
    "print(result[0][2])"
   ]
  },
  {
   "cell_type": "code",
   "execution_count": null,
   "id": "94bc922f",
   "metadata": {},
   "outputs": [],
   "source": []
  }
 ],
 "metadata": {
  "kernelspec": {
   "display_name": "Python 3 (ipykernel)",
   "language": "python",
   "name": "python3"
  },
  "language_info": {
   "codemirror_mode": {
    "name": "ipython",
    "version": 3
   },
   "file_extension": ".py",
   "mimetype": "text/x-python",
   "name": "python",
   "nbconvert_exporter": "python",
   "pygments_lexer": "ipython3",
   "version": "3.11.3"
  }
 },
 "nbformat": 4,
 "nbformat_minor": 5
}
